{
 "cells": [
  {
   "cell_type": "code",
   "execution_count": null,
   "id": "65744780-6143-4544-904a-33cc840bf701",
   "metadata": {},
   "outputs": [
    {
     "name": "stderr",
     "output_type": "stream",
     "text": [
      "2025-09-12 11:51:36,747 INFO [2024-09-26T00:00:00] Watch our [Forum](https://forum.ecmwf.int/) for Announcements, news and other discussed topics.\n",
      "2025-09-12 11:51:37,105 INFO [2025-07-04T00:00:00] Due to a transition between project phases, there are changes to the timeline of this dataset updates, which are usually on an annual basis with a one year delay: 2023 and 2024 data updates are now expected during 2026. Please watch the [forum](https://forum.ecmwf.int/c/announcements/5) for future announcements.\n",
      "2025-09-12 11:51:37,106 INFO Request ID is 945cad4c-51c5-4743-8a16-6bced7310f29\n",
      "2025-09-12 11:51:37,268 INFO status has been updated to accepted\n"
     ]
    }
   ],
   "source": [
    "import cdsapi\n",
    "\n",
    "dataset = \"satellite-land-cover\"\n",
    "\n",
    "request = {\n",
    "    \"variable\": \"all\",\n",
    "    \"year\": [\"2018\"],\n",
    "    \"version\": [\"v2_1_1\"],\n",
    "    \"area\": [90, -180, 40, 180]\n",
    "}\n",
    "\n",
    "\n",
    "client = cdsapi.Client()\n",
    "client.retrieve(dataset, request).download(\"/explore/nobackup/people/spotter5/anna_v/v2/esa_2018.nc\")\n",
    "\n"
   ]
  },
  {
   "cell_type": "code",
   "execution_count": null,
   "id": "c8c68ffd-425a-4cc1-bf52-745b9034fb96",
   "metadata": {},
   "outputs": [],
   "source": []
  }
 ],
 "metadata": {
  "kernelspec": {
   "display_name": "Python [conda env:.conda-cdsapi]",
   "language": "python",
   "name": "conda-env-.conda-cdsapi-py"
  },
  "language_info": {
   "codemirror_mode": {
    "name": "ipython",
    "version": 3
   },
   "file_extension": ".py",
   "mimetype": "text/x-python",
   "name": "python",
   "nbconvert_exporter": "python",
   "pygments_lexer": "ipython3",
   "version": "3.9.20"
  }
 },
 "nbformat": 4,
 "nbformat_minor": 5
}
