{
 "cells": [
  {
   "cell_type": "code",
   "execution_count": 2,
   "id": "1f3d272a-1630-4968-85a5-18f86f30935a",
   "metadata": {},
   "outputs": [
    {
     "name": "stdout",
     "output_type": "stream",
     "text": [
      "Reading data from: /explore/nobackup/people/spotter5/anna_v/v2/v2_model_training_data_v5.csv\n"
     ]
    },
    {
     "name": "stderr",
     "output_type": "stream",
     "text": [
      "/explore/nobackup/people/spotter5/temp_dir/ipykernel_1373676/2610681437.py:15: DtypeWarning: Columns (131,132) have mixed types. Specify dtype option on import or set low_memory=False.\n",
      "  df = pd.read_csv(input_csv_path)\n"
     ]
    },
    {
     "name": "stdout",
     "output_type": "stream",
     "text": [
      "Selecting columns: ['site_reference', 'latitude', 'longitude']\n",
      "Original number of rows: 642655\n",
      "Number of unique sites after dropping duplicates: 2139\n",
      "Converting Pandas DataFrame to GeoPandas GeoDataFrame...\n",
      "Setting Coordinate Reference System (CRS) to EPSG:4326 (WGS84)...\n",
      "Saving GeoDataFrame to shapefile: /explore/nobackup/people/spotter5/anna_v/v2/v2_model_sites.shp\n",
      "\n",
      "Processing complete!\n",
      "Shapefile '/explore/nobackup/people/spotter5/anna_v/v2/v2_model_sites.shp' created successfully.\n",
      "\n",
      "First 5 rows of the final GeoDataFrame:\n",
      "                                      site_reference  latitude   longitude  \\\n",
      "0  Bonanza Creek Experimental Forest_FP1A-Sandbar...     64.68 -148.316667   \n",
      "1  Bonanza Creek Experimental Forest_FP2A-Alder-P...     64.68 -148.316667   \n",
      "2  Bonanza Creek Experimental Forest_FP3A-Poplar_...     64.68 -148.316667   \n",
      "3  Bonanza Creek Experimental Forest_FP4A-White S...     64.68 -148.316667   \n",
      "4  Bonanza Creek Experimental Forest_FP5A- Black ...     64.68 -148.316667   \n",
      "\n",
      "                   geometry  \n",
      "0  POINT (-148.31667 64.68)  \n",
      "1  POINT (-148.31667 64.68)  \n",
      "2  POINT (-148.31667 64.68)  \n",
      "3  POINT (-148.31667 64.68)  \n",
      "4  POINT (-148.31667 64.68)  \n"
     ]
    },
    {
     "name": "stderr",
     "output_type": "stream",
     "text": [
      "/explore/nobackup/people/spotter5/temp_dir/ipykernel_1373676/2610681437.py:63: UserWarning: Column names longer than 10 characters will be truncated when saved to ESRI Shapefile.\n",
      "  gdf.to_file(output_shapefile_path, driver='ESRI Shapefile')\n",
      "/home/spotter5/.conda/envs/xgboost_gpu/lib/python3.9/site-packages/pyogrio/raw.py:723: RuntimeWarning: Normalized/laundered field name: 'site_reference' to 'site_refer'\n",
      "  ogr_write(\n"
     ]
    }
   ],
   "source": [
    "import pandas as pd\n",
    "import geopandas as gpd\n",
    "\n",
    "# # --- Configuration ---\n",
    "# UPDATE this with the actual path to your input CSV file\n",
    "input_csv_path = \"/explore/nobackup/people/spotter5/anna_v/v2/v2_model_training_data_v5.csv\"\n",
    "# UPDATE this with the desired path for your output shapefile\n",
    "output_shapefile_path = \"/explore/nobackup/people/spotter5/anna_v/v2/v2_model_sites.shp\"\n",
    "\n",
    "# --- Main Script ---\n",
    "\n",
    "try:\n",
    "    # 1. Read the CSV file into a Pandas DataFrame\n",
    "    print(f\"Reading data from: {input_csv_path}\")\n",
    "    df = pd.read_csv(input_csv_path)\n",
    "\n",
    "    # 2. Define the columns to keep\n",
    "    columns_to_keep = ['site_reference', 'latitudelongitude']\n",
    "    \n",
    "    # It seems 'latitude' and 'longitude' are in a single column. Let's split it.\n",
    "    # If they are separate columns already, you can adjust this part.\n",
    "    # Assuming the format is \"latitude,longitude\"\n",
    "    if 'latitudelongitude' in df.columns:\n",
    "        # print(\"Splitting 'latitudelongitude' column into 'latitude' and 'longitude'...\")\n",
    "        # df[['latitude', 'longitude']] = df['latitudelongitude'].astype(str).str.split(',', expand=True)\n",
    "        \n",
    "        # Convert new columns to numeric, coercing errors\n",
    "        df['latitude'] = pd.to_numeric(df['latitude'], errors='coerce')\n",
    "        df['longitude'] = pd.to_numeric(df['longitude'], errors='coerce')\n",
    "        \n",
    "        # Drop rows where conversion failed\n",
    "        df.dropna(subset=['latitude', 'longitude'], inplace=True)\n",
    "        \n",
    "        columns_to_keep = ['site_reference', 'latitude', 'longitude']\n",
    "    else:\n",
    "        # If you have separate 'latitude' and 'longitude' columns already\n",
    "        columns_to_keep = ['site_reference', 'latitude', 'longitude']\n",
    "\n",
    "\n",
    "    print(f\"Selecting columns: {columns_to_keep}\")\n",
    "    sites_df = df[columns_to_keep].copy()\n",
    "\n",
    "    # 3. Drop duplicate rows to get unique sites\n",
    "    print(f\"Original number of rows: {len(sites_df)}\")\n",
    "    sites_df.drop_duplicates(inplace=True)\n",
    "    print(f\"Number of unique sites after dropping duplicates: {len(sites_df)}\")\n",
    "\n",
    "    # 4. Create a GeoDataFrame\n",
    "    # The geometry is created from the longitude and latitude columns\n",
    "    print(\"Converting Pandas DataFrame to GeoPandas GeoDataFrame...\")\n",
    "    gdf = gpd.GeoDataFrame(\n",
    "        sites_df,\n",
    "        geometry=gpd.points_from_xy(sites_df.longitude, sites_df.latitude)\n",
    "    )\n",
    "\n",
    "    # 5. Set the Coordinate Reference System (CRS)\n",
    "    # WGS84 (EPSG:4326) is the standard for latitude/longitude data\n",
    "    print(\"Setting Coordinate Reference System (CRS) to EPSG:4326 (WGS84)...\")\n",
    "    gdf.set_crs(epsg=4326, inplace=True)\n",
    "\n",
    "    # 6. Save the GeoDataFrame to a shapefile\n",
    "    print(f\"Saving GeoDataFrame to shapefile: {output_shapefile_path}\")\n",
    "    gdf.to_file(output_shapefile_path, driver='ESRI Shapefile')\n",
    "\n",
    "    print(\"\\nProcessing complete!\")\n",
    "    print(f\"Shapefile '{output_shapefile_path}' created successfully.\")\n",
    "    print(\"\\nFirst 5 rows of the final GeoDataFrame:\")\n",
    "    print(gdf.head())\n",
    "\n",
    "except FileNotFoundError:\n",
    "    print(f\"Error: The file was not found at '{input_csv_path}'. Please update the path.\")\n",
    "except Exception as e:\n",
    "    print(f\"An unexpected error occurred: {e}\")\n",
    "\n"
   ]
  },
  {
   "cell_type": "code",
   "execution_count": 3,
   "id": "a5814f17-0fed-4058-98b8-5852ee4f09be",
   "metadata": {},
   "outputs": [
    {
     "name": "stdout",
     "output_type": "stream",
     "text": [
      "🚨 Found sites with more than 1 count:\n",
      "Storflaket_StorflaketDSS1_agg_chamber    2\n",
      "Storflaket_StorflaketDSS2_agg_chamber    2\n",
      "Storflaket_StorflaketDSS3_agg_chamber    2\n",
      "Storflaket_StorflaketDSS4_agg_chamber    2\n",
      "Storflaket_StorflaketDSS5_agg_chamber    2\n",
      "                                        ..\n",
      "Stordalen_StordalenSE2_agg_chamber       2\n",
      "Stordalen_StordalenSE3_agg_chamber       2\n",
      "Stordalen_StordalenSE4_agg_chamber       2\n",
      "Stordalen_StordalenSE5_agg_chamber       2\n",
      "Stordalen_StordalenPBS5_agg_chamber      2\n",
      "Name: site_refer, Length: 157, dtype: int64\n"
     ]
    }
   ],
   "source": [
    "import geopandas as gpd\n",
    "\n",
    "# Load the shapefile\n",
    "gdf = gpd.read_file(\"/explore/nobackup/people/spotter5/anna_v/v2/v2_model_sites.shp\")\n",
    "\n",
    "# Count the occurrences of each site in the 'site_reference' column\n",
    "site_counts = gdf['site_refer'].value_counts()\n",
    "\n",
    "# Filter to find which sites appear more than once\n",
    "duplicate_sites = site_counts[site_counts > 1]\n",
    "\n",
    "# Print the results\n",
    "if duplicate_sites.empty:\n",
    "    print(\"✅ All sites appear only once.\")\n",
    "else:\n",
    "    print(\"🚨 Found sites with more than 1 count:\")\n",
    "    print(duplicate_sites)"
   ]
  },
  {
   "cell_type": "code",
   "execution_count": null,
   "id": "49319ffb-c089-417b-ab13-f739adf41cd6",
   "metadata": {},
   "outputs": [],
   "source": []
  }
 ],
 "metadata": {
  "kernelspec": {
   "display_name": "Python [conda env:.conda-xgboost_gpu]",
   "language": "python",
   "name": "conda-env-.conda-xgboost_gpu-py"
  },
  "language_info": {
   "codemirror_mode": {
    "name": "ipython",
    "version": 3
   },
   "file_extension": ".py",
   "mimetype": "text/x-python",
   "name": "python",
   "nbconvert_exporter": "python",
   "pygments_lexer": "ipython3",
   "version": "3.9.19"
  }
 },
 "nbformat": 4,
 "nbformat_minor": 5
}
